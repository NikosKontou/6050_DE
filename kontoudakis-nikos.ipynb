{
 "cells": [
  {
   "cell_type": "markdown",
   "id": "975a3b1c-b568-4e40-a815-cf4ac47168e8",
   "metadata": {},
   "source": [
    "# KONTOUDAKIS NIKOS 283024"
   ]
  },
  {
   "cell_type": "markdown",
   "id": "10a4dc46-5aea-4b2c-8f4f-f8b23bca1e6d",
   "metadata": {},
   "source": [
    "## libraries and utilities"
   ]
  },
  {
   "cell_type": "code",
   "execution_count": 2,
   "id": "14514ed8-cdab-4b70-93fa-0c026c7eec85",
   "metadata": {},
   "outputs": [],
   "source": [
    "#required in order to run im my linux pc\n",
    "import sys\n",
    "sys.path.append('/usr/lib/python3.13/site-packages') "
   ]
  },
  {
   "cell_type": "code",
   "execution_count": 63,
   "id": "153c5284-8292-42f2-b65e-853d60ac2679",
   "metadata": {},
   "outputs": [],
   "source": [
    "import pandas as pd\n",
    "import psycopg2\n",
    "from io import StringIO"
   ]
  },
  {
   "cell_type": "markdown",
   "id": "711554d5-7d88-45e3-a7e5-6b832a414ca9",
   "metadata": {},
   "source": [
    "# Data Ingestion and Cleaning"
   ]
  },
  {
   "cell_type": "code",
   "execution_count": 41,
   "id": "b432d9d4-aa43-40e7-9802-37f29724dc4d",
   "metadata": {},
   "outputs": [],
   "source": [
    "def check_dataframe_issues(df):\n",
    "    issues = {}\n",
    "\n",
    "    # missing data per column\n",
    "    missing = df.isnull()\n",
    "    cols_with_missing = missing.any()\n",
    "    if cols_with_missing.any():\n",
    "        issues['missing_data'] = {}\n",
    "        for col in df.columns[cols_with_missing]:\n",
    "            indices = missing.index[missing[col]].tolist()\n",
    "            issues['missing_data'][col] = indices\n",
    "\n",
    "    # eclude the id column when searching for duplicates\n",
    "    duplicate_mask = df.iloc[:, 1:].duplicated()\n",
    "    if duplicate_mask.any():\n",
    "        duplicate_indices = df.index[duplicate_mask].tolist()\n",
    "        issues['duplicate_rows'] = duplicate_indices\n",
    "\n",
    "    return issues"
   ]
  },
  {
   "cell_type": "markdown",
   "id": "9885b5a3-5f28-4ec4-bcf4-e609a0334ad2",
   "metadata": {},
   "source": [
    "### If an input city is found to have a different value in the \"StandardCity\" column, it is considered an inconsistency"
   ]
  },
  {
   "cell_type": "code",
   "execution_count": 38,
   "id": "9ff087b1-8604-44f1-8f72-27a0bd2cf169",
   "metadata": {},
   "outputs": [],
   "source": [
    "def find_inconsistent_cities(input_df, cities_lookup_df):\n",
    "    issues = {}\n",
    "\n",
    "    # filter mismatched raw and standard city names\n",
    "    mismatched = cities_lookup_df[cities_lookup_df['RawCity'] != cities_lookup_df['StandardCity']]\n",
    "    print(f\"We are searching for the following errors: {mismatched[\"RawCity\"].to_list()}\")\n",
    "    # get list of raw city names to search for\n",
    "    raw_city_names = mismatched['RawCity'].unique()\n",
    "\n",
    "    # check for matches in 'City' column\n",
    "    if 'City' in input_df.columns:\n",
    "        city_matches = input_df[input_df['City'].isin(raw_city_names)]\n",
    "        if not city_matches.empty:\n",
    "            issues['City'] = city_matches.index.tolist()\n",
    "\n",
    "    # check for matches in 'Region' column\n",
    "    if 'Region' in input_df.columns:\n",
    "        region_matches = input_df[input_df['Region'].isin(raw_city_names)]\n",
    "        if not region_matches.empty:\n",
    "            issues['Region'] = region_matches.index.tolist()\n",
    "\n",
    "    return issues"
   ]
  },
  {
   "cell_type": "code",
   "execution_count": 39,
   "id": "6950652c-33ee-48bc-b1c5-e691b9f3cb3d",
   "metadata": {},
   "outputs": [],
   "source": [
    "calendar_df = pd.read_csv(\"./cityretail_dataset/calendar.csv\")\n",
    "cities_lookup_df = pd.read_csv(\"./cityretail_dataset/cities_lookup.csv\")\n",
    "products_df = pd.read_csv(\"./cityretail_dataset/products.csv\")\n",
    "sales_df = pd.read_csv(\"./cityretail_dataset/sales.csv\")\n",
    "stores_df = pd.read_csv(\"./cityretail_dataset/stores.csv\")\n",
    "all_data_dfs = [calendar_df, products_df, sales_df, stores_df]"
   ]
  },
  {
   "cell_type": "code",
   "execution_count": 40,
   "id": "612404ac-bdb9-4837-9ef8-ebc91ae6cb9b",
   "metadata": {},
   "outputs": [
    {
     "name": "stdout",
     "output_type": "stream",
     "text": [
      "{}\n",
      "{}\n",
      "{}\n",
      "{}\n"
     ]
    }
   ],
   "source": [
    "for df in all_data_dfs:\n",
    "    print(check_dataframe_issues(df))"
   ]
  },
  {
   "cell_type": "code",
   "execution_count": 42,
   "id": "d6e1625f-b3f2-4d65-8769-7e0de0607e12",
   "metadata": {},
   "outputs": [
    {
     "name": "stdout",
     "output_type": "stream",
     "text": [
      "We are searching for the following errors: ['Athns', 'Thess', 'Patrass', 'Herakleion', 'Larisa']\n",
      "inconsistent cities found: {}\n"
     ]
    }
   ],
   "source": [
    "inconsistent_cities = find_inconsistent_cities(stores_df, cities_lookup_df)\n",
    "print(f\"inconsistent cities found: {inconsistent_cities}\")"
   ]
  },
  {
   "cell_type": "markdown",
   "id": "f67ed57b-5f78-47d8-a349-0c72d96f2489",
   "metadata": {},
   "source": [
    "### since all data are valid and have no inconsistencies, they will be inserted as bellow"
   ]
  },
  {
   "cell_type": "code",
   "execution_count": 52,
   "id": "7d82fb62-e266-4499-b4ab-d7f1562631bf",
   "metadata": {},
   "outputs": [
    {
     "data": {
      "text/html": [
       "<div>\n",
       "<style scoped>\n",
       "    .dataframe tbody tr th:only-of-type {\n",
       "        vertical-align: middle;\n",
       "    }\n",
       "\n",
       "    .dataframe tbody tr th {\n",
       "        vertical-align: top;\n",
       "    }\n",
       "\n",
       "    .dataframe thead th {\n",
       "        text-align: right;\n",
       "    }\n",
       "</style>\n",
       "<table border=\"1\" class=\"dataframe\">\n",
       "  <thead>\n",
       "    <tr style=\"text-align: right;\">\n",
       "      <th></th>\n",
       "      <th>DateID</th>\n",
       "      <th>Date</th>\n",
       "      <th>Year</th>\n",
       "      <th>Quarter</th>\n",
       "      <th>Month</th>\n",
       "      <th>Day</th>\n",
       "      <th>Weekday</th>\n",
       "    </tr>\n",
       "  </thead>\n",
       "  <tbody>\n",
       "    <tr>\n",
       "      <th>0</th>\n",
       "      <td>1</td>\n",
       "      <td>2024-01-01</td>\n",
       "      <td>2024</td>\n",
       "      <td>1</td>\n",
       "      <td>1</td>\n",
       "      <td>1</td>\n",
       "      <td>Monday</td>\n",
       "    </tr>\n",
       "    <tr>\n",
       "      <th>1</th>\n",
       "      <td>2</td>\n",
       "      <td>2024-01-02</td>\n",
       "      <td>2024</td>\n",
       "      <td>1</td>\n",
       "      <td>1</td>\n",
       "      <td>2</td>\n",
       "      <td>Tuesday</td>\n",
       "    </tr>\n",
       "    <tr>\n",
       "      <th>2</th>\n",
       "      <td>3</td>\n",
       "      <td>2024-01-03</td>\n",
       "      <td>2024</td>\n",
       "      <td>1</td>\n",
       "      <td>1</td>\n",
       "      <td>3</td>\n",
       "      <td>Wednesday</td>\n",
       "    </tr>\n",
       "    <tr>\n",
       "      <th>3</th>\n",
       "      <td>4</td>\n",
       "      <td>2024-01-04</td>\n",
       "      <td>2024</td>\n",
       "      <td>1</td>\n",
       "      <td>1</td>\n",
       "      <td>4</td>\n",
       "      <td>Thursday</td>\n",
       "    </tr>\n",
       "    <tr>\n",
       "      <th>4</th>\n",
       "      <td>5</td>\n",
       "      <td>2024-01-05</td>\n",
       "      <td>2024</td>\n",
       "      <td>1</td>\n",
       "      <td>1</td>\n",
       "      <td>5</td>\n",
       "      <td>Friday</td>\n",
       "    </tr>\n",
       "  </tbody>\n",
       "</table>\n",
       "</div>"
      ],
      "text/plain": [
       "   DateID        Date  Year  Quarter  Month  Day    Weekday\n",
       "0       1  2024-01-01  2024        1      1    1     Monday\n",
       "1       2  2024-01-02  2024        1      1    2    Tuesday\n",
       "2       3  2024-01-03  2024        1      1    3  Wednesday\n",
       "3       4  2024-01-04  2024        1      1    4   Thursday\n",
       "4       5  2024-01-05  2024        1      1    5     Friday"
      ]
     },
     "metadata": {},
     "output_type": "display_data"
    },
    {
     "data": {
      "text/html": [
       "<div>\n",
       "<style scoped>\n",
       "    .dataframe tbody tr th:only-of-type {\n",
       "        vertical-align: middle;\n",
       "    }\n",
       "\n",
       "    .dataframe tbody tr th {\n",
       "        vertical-align: top;\n",
       "    }\n",
       "\n",
       "    .dataframe thead th {\n",
       "        text-align: right;\n",
       "    }\n",
       "</style>\n",
       "<table border=\"1\" class=\"dataframe\">\n",
       "  <thead>\n",
       "    <tr style=\"text-align: right;\">\n",
       "      <th></th>\n",
       "      <th>ProductID</th>\n",
       "      <th>ProductName</th>\n",
       "      <th>Category</th>\n",
       "      <th>Subcategory</th>\n",
       "      <th>CostPrice</th>\n",
       "      <th>SalePrice</th>\n",
       "    </tr>\n",
       "  </thead>\n",
       "  <tbody>\n",
       "    <tr>\n",
       "      <th>0</th>\n",
       "      <td>1001</td>\n",
       "      <td>Product_1</td>\n",
       "      <td>Dairy</td>\n",
       "      <td>Medium</td>\n",
       "      <td>16.03</td>\n",
       "      <td>25.61</td>\n",
       "    </tr>\n",
       "    <tr>\n",
       "      <th>1</th>\n",
       "      <td>1002</td>\n",
       "      <td>Product_2</td>\n",
       "      <td>Household</td>\n",
       "      <td>Low</td>\n",
       "      <td>5.19</td>\n",
       "      <td>7.20</td>\n",
       "    </tr>\n",
       "    <tr>\n",
       "      <th>2</th>\n",
       "      <td>1003</td>\n",
       "      <td>Product_3</td>\n",
       "      <td>Beverages</td>\n",
       "      <td>Medium</td>\n",
       "      <td>11.01</td>\n",
       "      <td>16.65</td>\n",
       "    </tr>\n",
       "    <tr>\n",
       "      <th>3</th>\n",
       "      <td>1004</td>\n",
       "      <td>Product_4</td>\n",
       "      <td>Dairy</td>\n",
       "      <td>Medium</td>\n",
       "      <td>12.46</td>\n",
       "      <td>19.04</td>\n",
       "    </tr>\n",
       "    <tr>\n",
       "      <th>4</th>\n",
       "      <td>1005</td>\n",
       "      <td>Product_5</td>\n",
       "      <td>Dairy</td>\n",
       "      <td>Medium</td>\n",
       "      <td>2.36</td>\n",
       "      <td>3.09</td>\n",
       "    </tr>\n",
       "  </tbody>\n",
       "</table>\n",
       "</div>"
      ],
      "text/plain": [
       "   ProductID ProductName   Category Subcategory  CostPrice  SalePrice\n",
       "0       1001   Product_1      Dairy      Medium      16.03      25.61\n",
       "1       1002   Product_2  Household         Low       5.19       7.20\n",
       "2       1003   Product_3  Beverages      Medium      11.01      16.65\n",
       "3       1004   Product_4      Dairy      Medium      12.46      19.04\n",
       "4       1005   Product_5      Dairy      Medium       2.36       3.09"
      ]
     },
     "metadata": {},
     "output_type": "display_data"
    },
    {
     "data": {
      "text/html": [
       "<div>\n",
       "<style scoped>\n",
       "    .dataframe tbody tr th:only-of-type {\n",
       "        vertical-align: middle;\n",
       "    }\n",
       "\n",
       "    .dataframe tbody tr th {\n",
       "        vertical-align: top;\n",
       "    }\n",
       "\n",
       "    .dataframe thead th {\n",
       "        text-align: right;\n",
       "    }\n",
       "</style>\n",
       "<table border=\"1\" class=\"dataframe\">\n",
       "  <thead>\n",
       "    <tr style=\"text-align: right;\">\n",
       "      <th></th>\n",
       "      <th>SalesID</th>\n",
       "      <th>DateID</th>\n",
       "      <th>ProductID</th>\n",
       "      <th>StoreID</th>\n",
       "      <th>QtySold</th>\n",
       "      <th>Revenue</th>\n",
       "    </tr>\n",
       "  </thead>\n",
       "  <tbody>\n",
       "    <tr>\n",
       "      <th>0</th>\n",
       "      <td>1</td>\n",
       "      <td>125</td>\n",
       "      <td>1015</td>\n",
       "      <td>208</td>\n",
       "      <td>3</td>\n",
       "      <td>40.35</td>\n",
       "    </tr>\n",
       "    <tr>\n",
       "      <th>1</th>\n",
       "      <td>2</td>\n",
       "      <td>71</td>\n",
       "      <td>1014</td>\n",
       "      <td>208</td>\n",
       "      <td>4</td>\n",
       "      <td>69.52</td>\n",
       "    </tr>\n",
       "    <tr>\n",
       "      <th>2</th>\n",
       "      <td>3</td>\n",
       "      <td>209</td>\n",
       "      <td>1011</td>\n",
       "      <td>203</td>\n",
       "      <td>2</td>\n",
       "      <td>57.72</td>\n",
       "    </tr>\n",
       "    <tr>\n",
       "      <th>3</th>\n",
       "      <td>4</td>\n",
       "      <td>269</td>\n",
       "      <td>1007</td>\n",
       "      <td>207</td>\n",
       "      <td>9</td>\n",
       "      <td>69.66</td>\n",
       "    </tr>\n",
       "    <tr>\n",
       "      <th>4</th>\n",
       "      <td>5</td>\n",
       "      <td>85</td>\n",
       "      <td>1008</td>\n",
       "      <td>202</td>\n",
       "      <td>1</td>\n",
       "      <td>4.76</td>\n",
       "    </tr>\n",
       "  </tbody>\n",
       "</table>\n",
       "</div>"
      ],
      "text/plain": [
       "   SalesID  DateID  ProductID  StoreID  QtySold  Revenue\n",
       "0        1     125       1015      208        3    40.35\n",
       "1        2      71       1014      208        4    69.52\n",
       "2        3     209       1011      203        2    57.72\n",
       "3        4     269       1007      207        9    69.66\n",
       "4        5      85       1008      202        1     4.76"
      ]
     },
     "metadata": {},
     "output_type": "display_data"
    },
    {
     "data": {
      "text/html": [
       "<div>\n",
       "<style scoped>\n",
       "    .dataframe tbody tr th:only-of-type {\n",
       "        vertical-align: middle;\n",
       "    }\n",
       "\n",
       "    .dataframe tbody tr th {\n",
       "        vertical-align: top;\n",
       "    }\n",
       "\n",
       "    .dataframe thead th {\n",
       "        text-align: right;\n",
       "    }\n",
       "</style>\n",
       "<table border=\"1\" class=\"dataframe\">\n",
       "  <thead>\n",
       "    <tr style=\"text-align: right;\">\n",
       "      <th></th>\n",
       "      <th>StoreID</th>\n",
       "      <th>StoreName</th>\n",
       "      <th>City</th>\n",
       "      <th>Region</th>\n",
       "    </tr>\n",
       "  </thead>\n",
       "  <tbody>\n",
       "    <tr>\n",
       "      <th>0</th>\n",
       "      <td>201</td>\n",
       "      <td>Store_1</td>\n",
       "      <td>Heraklion</td>\n",
       "      <td>Crete</td>\n",
       "    </tr>\n",
       "    <tr>\n",
       "      <th>1</th>\n",
       "      <td>202</td>\n",
       "      <td>Store_2</td>\n",
       "      <td>Larissa</td>\n",
       "      <td>Thessaly</td>\n",
       "    </tr>\n",
       "    <tr>\n",
       "      <th>2</th>\n",
       "      <td>203</td>\n",
       "      <td>Store_3</td>\n",
       "      <td>Athens</td>\n",
       "      <td>Attica</td>\n",
       "    </tr>\n",
       "    <tr>\n",
       "      <th>3</th>\n",
       "      <td>204</td>\n",
       "      <td>Store_4</td>\n",
       "      <td>Larissa</td>\n",
       "      <td>Thessaly</td>\n",
       "    </tr>\n",
       "    <tr>\n",
       "      <th>4</th>\n",
       "      <td>205</td>\n",
       "      <td>Store_5</td>\n",
       "      <td>Larissa</td>\n",
       "      <td>Thessaly</td>\n",
       "    </tr>\n",
       "  </tbody>\n",
       "</table>\n",
       "</div>"
      ],
      "text/plain": [
       "   StoreID StoreName       City    Region\n",
       "0      201   Store_1  Heraklion     Crete\n",
       "1      202   Store_2    Larissa  Thessaly\n",
       "2      203   Store_3     Athens    Attica\n",
       "3      204   Store_4    Larissa  Thessaly\n",
       "4      205   Store_5    Larissa  Thessaly"
      ]
     },
     "metadata": {},
     "output_type": "display_data"
    }
   ],
   "source": [
    "for df in all_data_dfs:\n",
    "    display(df.head())"
   ]
  },
  {
   "cell_type": "markdown",
   "id": "17870133-fb87-408c-b0b2-f556c36da5a4",
   "metadata": {},
   "source": [
    "# OLAP Schema"
   ]
  },
  {
   "cell_type": "code",
   "execution_count": 54,
   "id": "45a7faf5-9087-4ad4-992e-691a7c99852e",
   "metadata": {},
   "outputs": [],
   "source": [
    "db_params = {\n",
    "    'host': 'localhost',\n",
    "    'port': 5432,\n",
    "    'dbname': 'project',\n",
    "    'user': 'postgres',\n",
    "    'password': ''\n",
    "}"
   ]
  },
  {
   "cell_type": "markdown",
   "id": "385109b7-e463-4959-8060-bdd7ec67a7f7",
   "metadata": {},
   "source": [
    "### Read the ddl and create tables/constraints"
   ]
  },
  {
   "cell_type": "code",
   "execution_count": 62,
   "id": "5659be3e-ece0-4960-bc15-6c4933a95241",
   "metadata": {},
   "outputs": [],
   "source": [
    "with open(\"./cityretail_dataset/star_schema.sql\", 'r') as f:\n",
    "    sql_commands = f.read()\n",
    "\n",
    "# split statements by semicolon and strip whitespace\n",
    "statements = [s.strip() for s in sql_commands.split(';') if s.strip()]\n",
    "\n",
    "with psycopg2.connect(**db_params) as conn:\n",
    "    with conn.cursor() as cur:\n",
    "        for stmt in statements:\n",
    "            try:\n",
    "                cur.execute(stmt)\n",
    "            except Exception as e:\n",
    "                print(f\"error executing statement:\\n{stmt}\\n{e}\")\n",
    "    conn.commit()"
   ]
  },
  {
   "cell_type": "code",
   "execution_count": 66,
   "id": "ca778234-4ecb-422e-b05f-c61adbae9d2e",
   "metadata": {},
   "outputs": [],
   "source": [
    "def insert_df_copy(df, table_name, db_params):\n",
    "    buffer = StringIO()\n",
    "    df.to_csv(buffer, index=False, header=False)\n",
    "    buffer.seek(0)\n",
    "\n",
    "    with psycopg2.connect(**db_params) as conn:\n",
    "        with conn.cursor() as cur:\n",
    "            try:\n",
    "                cur.copy_from(buffer, table_name, sep=',', null='')\n",
    "            except Exception as e:\n",
    "                print(f\"copy failed: {e}\")\n",
    "        conn.commit()"
   ]
  },
  {
   "cell_type": "code",
   "execution_count": 69,
   "id": "4a649b52-9ffd-4d27-8bfa-4c0fa5781bb5",
   "metadata": {},
   "outputs": [],
   "source": [
    "insert_df_copy(calendar_df, \"dimdate\", db_params= db_params)\n",
    "insert_df_copy(products_df, \"dimproduct\", db_params= db_params)\n",
    "insert_df_copy(stores_df, \"dimstore\", db_params= db_params)\n",
    "insert_df_copy(sales_df, \"factsales\", db_params= db_params)"
   ]
  },
  {
   "cell_type": "markdown",
   "id": "16b1ea57-8fcb-4c3f-b28d-208df8fa7982",
   "metadata": {},
   "source": [
    "# Measures and Aggregations"
   ]
  }
 ],
 "metadata": {
  "kernelspec": {
   "display_name": "Python 3 (ipykernel)",
   "language": "python",
   "name": "python3"
  },
  "language_info": {
   "codemirror_mode": {
    "name": "ipython",
    "version": 3
   },
   "file_extension": ".py",
   "mimetype": "text/x-python",
   "name": "python",
   "nbconvert_exporter": "python",
   "pygments_lexer": "ipython3",
   "version": "3.13.3"
  }
 },
 "nbformat": 4,
 "nbformat_minor": 5
}
